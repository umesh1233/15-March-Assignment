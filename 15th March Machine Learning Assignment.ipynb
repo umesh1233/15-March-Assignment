{
 "cells": [
  {
   "cell_type": "markdown",
   "id": "9a00c69d-a308-47bf-94a9-fcecd2e276f2",
   "metadata": {},
   "source": [
    "# Question 1."
   ]
  },
  {
   "cell_type": "code",
   "execution_count": null,
   "id": "19884c28-f20b-4f90-ac1f-e3d925a1a94f",
   "metadata": {},
   "outputs": [],
   "source": [
    "# Answer:-\n",
    "1.Artificial Intelligence:-Artificial intelligence is the simulation of human intelligence\n",
    "processes by machines, especially computer systems.\n",
    "\n",
    "2.Machine Learning:-Machine learning is a branch of artificial intelligence (AI) and computer science which focuses\n",
    "on the use of data and algorithms to imitate the way that humans learn, gradually improving its accuracy.\n",
    "\n",
    "3.Deep learning is a subset of machine learning, which is essentially aneural network with three or more \n",
    "layers.\n"
   ]
  },
  {
   "cell_type": "markdown",
   "id": "d1db8e63-4611-4d18-92b7-efc2b92d2908",
   "metadata": {},
   "source": [
    "# Question 2."
   ]
  },
  {
   "cell_type": "code",
   "execution_count": null,
   "id": "dd844738-4467-4606-90a4-948eb34ef9fd",
   "metadata": {},
   "outputs": [],
   "source": [
    "# Answer:-\n",
    "Supervised learning:-Supervised learning, also known as supervised machine learning, is a subcategory of\n",
    "machine learning and artificial intelligence. It is defined by its use of labeled datasets to train\n",
    "algorithms that to classify data or predict outcomes accurately.\n",
    "\n",
    "example:-Image and speech recognition, recommendation systems, and fraud detection are all examples of how\n",
    "supervised learning is used."
   ]
  },
  {
   "cell_type": "markdown",
   "id": "9e1ff484-9b0e-4abc-bdcd-9e4a4d3c2899",
   "metadata": {},
   "source": [
    "# Question 3."
   ]
  },
  {
   "cell_type": "code",
   "execution_count": null,
   "id": "79966d46-8d3a-4094-9f5b-630510e27da8",
   "metadata": {},
   "outputs": [],
   "source": [
    "# Answer:-\n",
    "Unsupervised learning:- Unsupervised learning is when it can provide a set of unlabelled data, which it is required to analyze and\n",
    "find patterns inside. The examples are dimension reduction and clustering.\n"
   ]
  },
  {
   "cell_type": "markdown",
   "id": "0bbdb6fe-20c1-452d-a93a-f25e87b5d267",
   "metadata": {},
   "source": [
    "# Questions 4."
   ]
  },
  {
   "cell_type": "code",
   "execution_count": null,
   "id": "577e44f5-e3b9-4e7d-9d85-25dd0360802b",
   "metadata": {},
   "outputs": [],
   "source": [
    "# Answer:-\n",
    "1.Artificial Intelligence uses logic and decision trees.\n",
    "2.Machine Learning uses statistical models. \n",
    "3.Data Science deals with structured and unstructured data.\n",
    "4.Chatbots, and Voice assistants are popular applications of AI."
   ]
  },
  {
   "cell_type": "markdown",
   "id": "e2749481-06eb-4702-a9be-a2cfca7aa418",
   "metadata": {},
   "source": [
    "# Question 5."
   ]
  },
  {
   "cell_type": "code",
   "execution_count": null,
   "id": "2d87926e-5f1a-4098-8fc4-39b9319ecc6e",
   "metadata": {},
   "outputs": [],
   "source": [
    "# Answer:-\n",
    "The main difference between supervised vs unsupervised learning is the need for labelled training data. Supervised machine learning relies\n",
    "on labelled input and output training data, whereas unsupervised learning processes unlabelled or raw data.\n",
    " \n",
    "Semi-Supervised Learning:- semi-supervised learning (SSL) is a machine learning technique that uses a small\n",
    "portion of labeled data and lots of unlabeled data to train a predictive model."
   ]
  },
  {
   "cell_type": "markdown",
   "id": "5d2dc89b-1214-4a5d-b81c-196e5b66cf3b",
   "metadata": {},
   "source": [
    "# Question 6."
   ]
  },
  {
   "cell_type": "code",
   "execution_count": null,
   "id": "4ac790cd-5d03-4031-b9ea-3c6ee3266311",
   "metadata": {},
   "outputs": [],
   "source": [
    "# Answer:-\n",
    "The train-test split is a technique in machine learning where a dataset is divided into two subsets: the training set and test set. The training set is used to train the model,\n",
    "while the test set is used to evaluate the final models performance and generalization capabilities.\n",
    "\n",
    "Validation split :- Validation split helps to improve the model performance by fine-tuning the model after each epoch."
   ]
  },
  {
   "cell_type": "markdown",
   "id": "5746536d-38a9-40ef-9ce2-1e9a7f940078",
   "metadata": {},
   "source": [
    "# Question 7.\n"
   ]
  },
  {
   "cell_type": "code",
   "execution_count": null,
   "id": "a2d32308-395a-405d-a432-e533e39d22f2",
   "metadata": {},
   "outputs": [],
   "source": [
    "# Answer:-\n",
    "Anomaly detection techniques of unsupervised nature assume that normal data points occur considerably more frequently than anomalous data points. This assumption is used to classify data points that \n",
    "occur less frequently as anomalies. Unsupervised techniques assign each data point a score instead of a label."
   ]
  },
  {
   "cell_type": "markdown",
   "id": "36bc54ea-656e-4d0c-8725-3be230f0e4b2",
   "metadata": {},
   "source": [
    "# Question 8."
   ]
  },
  {
   "cell_type": "code",
   "execution_count": null,
   "id": "3bb4203b-2d48-43ae-ab8d-7319b6cfdedb",
   "metadata": {},
   "outputs": [],
   "source": [
    "# Answer:-\n",
    "The most commonly used Supervised Learning algorithms are decision tree, logistic regression, linear regression, support vector machine. The most commonly \n",
    "used Unsupervised Learning algorithms are k-means clustering, hierarchical clustering, and apriori algorithm."
   ]
  }
 ],
 "metadata": {
  "kernelspec": {
   "display_name": "Python 3 (ipykernel)",
   "language": "python",
   "name": "python3"
  },
  "language_info": {
   "codemirror_mode": {
    "name": "ipython",
    "version": 3
   },
   "file_extension": ".py",
   "mimetype": "text/x-python",
   "name": "python",
   "nbconvert_exporter": "python",
   "pygments_lexer": "ipython3",
   "version": "3.10.8"
  }
 },
 "nbformat": 4,
 "nbformat_minor": 5
}
